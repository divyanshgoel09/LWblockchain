{
  "nbformat": 4,
  "nbformat_minor": 0,
  "metadata": {
    "colab": {
      "provenance": [],
      "authorship_tag": "ABX9TyMV5yNgc64gmCZRC+IcZ53V",
      "include_colab_link": true
    },
    "kernelspec": {
      "name": "python3",
      "display_name": "Python 3"
    },
    "language_info": {
      "name": "python"
    }
  },
  "cells": [
    {
      "cell_type": "markdown",
      "metadata": {
        "id": "view-in-github",
        "colab_type": "text"
      },
      "source": [
        "<a href=\"https://colab.research.google.com/github/divyanshgoel09/LWblockchain/blob/main/LWblockchain.ipynb\" target=\"_parent\"><img src=\"https://colab.research.google.com/assets/colab-badge.svg\" alt=\"Open In Colab\"/></a>"
      ]
    },
    {
      "cell_type": "code",
      "execution_count": 29,
      "metadata": {
        "id": "8ASnBTBohwVa"
      },
      "outputs": [],
      "source": [
        "#Libraries required for running code\n",
        "import datetime\n",
        "import json\n",
        "import hashlib\n",
        "import pandas as pd"
      ]
    },
    {
      "cell_type": "code",
      "source": [
        "#loading dataset\n",
        "from google.colab import files\n",
        "\n",
        "uploaded = files.upload()"
      ],
      "metadata": {
        "colab": {
          "base_uri": "https://localhost:8080/",
          "height": 73
        },
        "id": "9weLBFOkh_Cl",
        "outputId": "ab180f73-aed2-4d07-9a95-fad8db470afa"
      },
      "execution_count": 30,
      "outputs": [
        {
          "output_type": "display_data",
          "data": {
            "text/plain": [
              "<IPython.core.display.HTML object>"
            ],
            "text/html": [
              "\n",
              "     <input type=\"file\" id=\"files-22b47136-1918-4b38-b7c9-6eae0b170562\" name=\"files[]\" multiple disabled\n",
              "        style=\"border:none\" />\n",
              "     <output id=\"result-22b47136-1918-4b38-b7c9-6eae0b170562\">\n",
              "      Upload widget is only available when the cell has been executed in the\n",
              "      current browser session. Please rerun this cell to enable.\n",
              "      </output>\n",
              "      <script>// Copyright 2017 Google LLC\n",
              "//\n",
              "// Licensed under the Apache License, Version 2.0 (the \"License\");\n",
              "// you may not use this file except in compliance with the License.\n",
              "// You may obtain a copy of the License at\n",
              "//\n",
              "//      http://www.apache.org/licenses/LICENSE-2.0\n",
              "//\n",
              "// Unless required by applicable law or agreed to in writing, software\n",
              "// distributed under the License is distributed on an \"AS IS\" BASIS,\n",
              "// WITHOUT WARRANTIES OR CONDITIONS OF ANY KIND, either express or implied.\n",
              "// See the License for the specific language governing permissions and\n",
              "// limitations under the License.\n",
              "\n",
              "/**\n",
              " * @fileoverview Helpers for google.colab Python module.\n",
              " */\n",
              "(function(scope) {\n",
              "function span(text, styleAttributes = {}) {\n",
              "  const element = document.createElement('span');\n",
              "  element.textContent = text;\n",
              "  for (const key of Object.keys(styleAttributes)) {\n",
              "    element.style[key] = styleAttributes[key];\n",
              "  }\n",
              "  return element;\n",
              "}\n",
              "\n",
              "// Max number of bytes which will be uploaded at a time.\n",
              "const MAX_PAYLOAD_SIZE = 100 * 1024;\n",
              "\n",
              "function _uploadFiles(inputId, outputId) {\n",
              "  const steps = uploadFilesStep(inputId, outputId);\n",
              "  const outputElement = document.getElementById(outputId);\n",
              "  // Cache steps on the outputElement to make it available for the next call\n",
              "  // to uploadFilesContinue from Python.\n",
              "  outputElement.steps = steps;\n",
              "\n",
              "  return _uploadFilesContinue(outputId);\n",
              "}\n",
              "\n",
              "// This is roughly an async generator (not supported in the browser yet),\n",
              "// where there are multiple asynchronous steps and the Python side is going\n",
              "// to poll for completion of each step.\n",
              "// This uses a Promise to block the python side on completion of each step,\n",
              "// then passes the result of the previous step as the input to the next step.\n",
              "function _uploadFilesContinue(outputId) {\n",
              "  const outputElement = document.getElementById(outputId);\n",
              "  const steps = outputElement.steps;\n",
              "\n",
              "  const next = steps.next(outputElement.lastPromiseValue);\n",
              "  return Promise.resolve(next.value.promise).then((value) => {\n",
              "    // Cache the last promise value to make it available to the next\n",
              "    // step of the generator.\n",
              "    outputElement.lastPromiseValue = value;\n",
              "    return next.value.response;\n",
              "  });\n",
              "}\n",
              "\n",
              "/**\n",
              " * Generator function which is called between each async step of the upload\n",
              " * process.\n",
              " * @param {string} inputId Element ID of the input file picker element.\n",
              " * @param {string} outputId Element ID of the output display.\n",
              " * @return {!Iterable<!Object>} Iterable of next steps.\n",
              " */\n",
              "function* uploadFilesStep(inputId, outputId) {\n",
              "  const inputElement = document.getElementById(inputId);\n",
              "  inputElement.disabled = false;\n",
              "\n",
              "  const outputElement = document.getElementById(outputId);\n",
              "  outputElement.innerHTML = '';\n",
              "\n",
              "  const pickedPromise = new Promise((resolve) => {\n",
              "    inputElement.addEventListener('change', (e) => {\n",
              "      resolve(e.target.files);\n",
              "    });\n",
              "  });\n",
              "\n",
              "  const cancel = document.createElement('button');\n",
              "  inputElement.parentElement.appendChild(cancel);\n",
              "  cancel.textContent = 'Cancel upload';\n",
              "  const cancelPromise = new Promise((resolve) => {\n",
              "    cancel.onclick = () => {\n",
              "      resolve(null);\n",
              "    };\n",
              "  });\n",
              "\n",
              "  // Wait for the user to pick the files.\n",
              "  const files = yield {\n",
              "    promise: Promise.race([pickedPromise, cancelPromise]),\n",
              "    response: {\n",
              "      action: 'starting',\n",
              "    }\n",
              "  };\n",
              "\n",
              "  cancel.remove();\n",
              "\n",
              "  // Disable the input element since further picks are not allowed.\n",
              "  inputElement.disabled = true;\n",
              "\n",
              "  if (!files) {\n",
              "    return {\n",
              "      response: {\n",
              "        action: 'complete',\n",
              "      }\n",
              "    };\n",
              "  }\n",
              "\n",
              "  for (const file of files) {\n",
              "    const li = document.createElement('li');\n",
              "    li.append(span(file.name, {fontWeight: 'bold'}));\n",
              "    li.append(span(\n",
              "        `(${file.type || 'n/a'}) - ${file.size} bytes, ` +\n",
              "        `last modified: ${\n",
              "            file.lastModifiedDate ? file.lastModifiedDate.toLocaleDateString() :\n",
              "                                    'n/a'} - `));\n",
              "    const percent = span('0% done');\n",
              "    li.appendChild(percent);\n",
              "\n",
              "    outputElement.appendChild(li);\n",
              "\n",
              "    const fileDataPromise = new Promise((resolve) => {\n",
              "      const reader = new FileReader();\n",
              "      reader.onload = (e) => {\n",
              "        resolve(e.target.result);\n",
              "      };\n",
              "      reader.readAsArrayBuffer(file);\n",
              "    });\n",
              "    // Wait for the data to be ready.\n",
              "    let fileData = yield {\n",
              "      promise: fileDataPromise,\n",
              "      response: {\n",
              "        action: 'continue',\n",
              "      }\n",
              "    };\n",
              "\n",
              "    // Use a chunked sending to avoid message size limits. See b/62115660.\n",
              "    let position = 0;\n",
              "    do {\n",
              "      const length = Math.min(fileData.byteLength - position, MAX_PAYLOAD_SIZE);\n",
              "      const chunk = new Uint8Array(fileData, position, length);\n",
              "      position += length;\n",
              "\n",
              "      const base64 = btoa(String.fromCharCode.apply(null, chunk));\n",
              "      yield {\n",
              "        response: {\n",
              "          action: 'append',\n",
              "          file: file.name,\n",
              "          data: base64,\n",
              "        },\n",
              "      };\n",
              "\n",
              "      let percentDone = fileData.byteLength === 0 ?\n",
              "          100 :\n",
              "          Math.round((position / fileData.byteLength) * 100);\n",
              "      percent.textContent = `${percentDone}% done`;\n",
              "\n",
              "    } while (position < fileData.byteLength);\n",
              "  }\n",
              "\n",
              "  // All done.\n",
              "  yield {\n",
              "    response: {\n",
              "      action: 'complete',\n",
              "    }\n",
              "  };\n",
              "}\n",
              "\n",
              "scope.google = scope.google || {};\n",
              "scope.google.colab = scope.google.colab || {};\n",
              "scope.google.colab._files = {\n",
              "  _uploadFiles,\n",
              "  _uploadFilesContinue,\n",
              "};\n",
              "})(self);\n",
              "</script> "
            ]
          },
          "metadata": {}
        },
        {
          "output_type": "stream",
          "name": "stdout",
          "text": [
            "Saving Transaction_details.csv to Transaction_details.csv\n"
          ]
        }
      ]
    },
    {
      "cell_type": "code",
      "source": [
        "store_data = pd.read_csv(\"Transaction_details.csv\")"
      ],
      "metadata": {
        "id": "DrxmJB_Si7dh"
      },
      "execution_count": 31,
      "outputs": []
    },
    {
      "cell_type": "code",
      "source": [
        "#class for defining different functions in a Blockchain network\n",
        "class BlockChain:\n",
        "    def __init__(self):\n",
        "        # Store my block : BC\n",
        "        self.chain = []\n",
        "        # Genesis Block\n",
        "        self.create_block(transaction={\"TransactionNo\":0,\"Date\":0,\"ProductNo\":0,\"ProductName\":0,\"Price\":0,\"Quantity\":0,\"CustomerNo\":0,\"Country\":0}, proof=1, previous_hash=None)\n",
        "\n",
        "    #for adding a new block into blockchain\n",
        "    def create_block(self, transaction, proof, previous_hash):\n",
        "        block = {\n",
        "            \"index\": len(self.chain) + 1,\n",
        "            \"timestamp\": str ( datetime.datetime.now()),\n",
        "            \"proof\": proof,\n",
        "            \"Transaction_No\": transaction['TransactionNo'],\n",
        "            \"Date\": transaction['Date'],\n",
        "            \"Product_No\": transaction['ProductNo'],\n",
        "            \"Product_Name\": transaction['ProductName'],\n",
        "            \"Price\": transaction['Price'],\n",
        "            \"Quantity\":transaction['Quantity'],\n",
        "            \"Customer_No\":transaction['CustomerNo'],\n",
        "            \"Country\":transaction['Country'],\n",
        "            \"previous_hash\": previous_hash\n",
        "            }\n",
        "        self.chain.append(block) #in real world, before adding block, validation happens, but currently for showing basic flow,directly adding block\n",
        "\n",
        "    #to get previous block\n",
        "    def get_previous_block(self):\n",
        "            return self.chain[-1]\n",
        "\n",
        "    # POW : Mining\n",
        "    def proof_of_work(self, previous_proof):\n",
        "        new_proof = 1\n",
        "        while True:\n",
        "            hash_operation = hashlib.sha256( str (new_proof**2 - previous_proof**2 ).encode()).hexdigest()\n",
        "            if hash_operation[0:4] == '0000': #puzzle\n",
        "                print(\"Mining done.\",\"Mined Nounce was:\",new_proof)\n",
        "                #print(hash_operation)\n",
        "                break\n",
        "            else:\n",
        "                new_proof +=1\n",
        "        return new_proof\n",
        "\n",
        "    #for finding hash of a passed block into it\n",
        "    def hash(self, block):\n",
        "        return hashlib.sha256(json.dumps(block, sort_keys=True).encode()).hexdigest()"
      ],
      "metadata": {
        "id": "8SqRy76Hjcol"
      },
      "execution_count": 33,
      "outputs": []
    },
    {
      "cell_type": "code",
      "source": [
        "mybc=BlockChain() #creating a blockchain with genesis block"
      ],
      "metadata": {
        "id": "fvsohTuXjgdO"
      },
      "execution_count": 34,
      "outputs": []
    },
    {
      "cell_type": "code",
      "source": [
        "def myBlockChain():\n",
        "    for index, transaction in store_data.iterrows():\n",
        "        previous_block=mybc.get_previous_block()\n",
        "        previous_proof=previous_block['proof']\n",
        "        mined_nounce=mybc.proof_of_work(previous_proof) #we are getting nounce after mining is done\n",
        "        previous_hash=mybc.hash(previous_block)\n",
        "        mybc.create_block(transaction,mined_nounce,previous_hash)#block is being added after mining\n",
        "    return(\"Transaction\",index,\"added into Blockchain\",mybc.chain,\"with nounce=\",mined_nounce) #observe that block is added because mining is done"
      ],
      "metadata": {
        "id": "D6wkQQo-jj0S"
      },
      "execution_count": 35,
      "outputs": []
    },
    {
      "cell_type": "code",
      "source": [
        "created_blockchain=myBlockChain() #output is coming from proof_of_work function"
      ],
      "metadata": {
        "colab": {
          "base_uri": "https://localhost:8080/"
        },
        "id": "os3vkx95jmEa",
        "outputId": "e4e47f49-87cd-4478-e40b-701b54eddf6d"
      },
      "execution_count": 36,
      "outputs": [
        {
          "output_type": "stream",
          "name": "stdout",
          "text": [
            "Mining done. Mined Nounce was: 533\n",
            "Mining done. Mined Nounce was: 45293\n",
            "Mining done. Mined Nounce was: 21391\n",
            "Mining done. Mined Nounce was: 8018\n",
            "Mining done. Mined Nounce was: 48191\n",
            "Mining done. Mined Nounce was: 19865\n",
            "Mining done. Mined Nounce was: 95063\n",
            "Mining done. Mined Nounce was: 15457\n",
            "Mining done. Mined Nounce was: 15479\n",
            "Mining done. Mined Nounce was: 7889\n",
            "Mining done. Mined Nounce was: 72474\n",
            "Mining done. Mined Nounce was: 126616\n",
            "Mining done. Mined Nounce was: 64161\n",
            "Mining done. Mined Nounce was: 144125\n"
          ]
        }
      ]
    },
    {
      "cell_type": "code",
      "source": [
        "print(created_blockchain)"
      ],
      "metadata": {
        "colab": {
          "base_uri": "https://localhost:8080/"
        },
        "id": "U9XiZ6I1jrMK",
        "outputId": "7b0808c7-5dc9-49ab-a57e-119db9aa2d85"
      },
      "execution_count": 37,
      "outputs": [
        {
          "output_type": "stream",
          "name": "stdout",
          "text": [
            "('Transaction', 13, 'added into Blockchain', [{'index': 1, 'timestamp': '2023-10-01 04:52:07.479588', 'proof': 1, 'Transaction_No': 0, 'Date': 0, 'Product_No': 0, 'Product_Name': 0, 'Price': 0, 'Quantity': 0, 'Customer_No': 0, 'Country': 0, 'previous_hash': None}, {'index': 2, 'timestamp': '2023-10-01 04:52:09.127246', 'proof': 533, 'Transaction_No': 581482, 'Date': '12-09-2019', 'Product_No': 22485, 'Product_Name': 'Set Of 2 Wooden Market Crates', 'Price': 21.47, 'Quantity': 12, 'Customer_No': 17490, 'Country': 'United Kingdom', 'previous_hash': '0a24fce463624001d8574a0ba8f6abd8c226cb89e15a2da2da6785ac1397f774'}, {'index': 3, 'timestamp': '2023-10-01 04:52:09.225247', 'proof': 45293, 'Transaction_No': 581475, 'Date': '12-09-2019', 'Product_No': 22596, 'Product_Name': 'Christmas Star Wish List Chalkboard', 'Price': 10.65, 'Quantity': 36, 'Customer_No': 13069, 'Country': 'United Kingdom', 'previous_hash': '731285d5665a2e3041cd2b1f16834c4b169ad7397333f953bbd7f75e4bc8204a'}, {'index': 4, 'timestamp': '2023-10-01 04:52:09.268750', 'proof': 21391, 'Transaction_No': 581475, 'Date': '12-09-2019', 'Product_No': 23235, 'Product_Name': 'Storage Tin Vintage Leaf', 'Price': 11.53, 'Quantity': 12, 'Customer_No': 13069, 'Country': 'United Kingdom', 'previous_hash': '16ed8157b54bfcab0e6741a2098d5eadd4c8fde0e48c820336db42852b1e24b6'}, {'index': 5, 'timestamp': '2023-10-01 04:52:09.285646', 'proof': 8018, 'Transaction_No': 581475, 'Date': '12-09-2019', 'Product_No': 23272, 'Product_Name': 'Tree T-Light Holder Willie Winkie', 'Price': 10.65, 'Quantity': 12, 'Customer_No': 13069, 'Country': 'United Kingdom', 'previous_hash': '6328b34eb07566e226f5f249c6282bde3e27ca405288275318c6ce3d9ad1614c'}, {'index': 6, 'timestamp': '2023-10-01 04:52:09.396001', 'proof': 48191, 'Transaction_No': 581475, 'Date': '12-09-2019', 'Product_No': 23239, 'Product_Name': 'Set Of 4 Knick Knack Tins Poppies', 'Price': 11.94, 'Quantity': 6, 'Customer_No': 13069, 'Country': 'United Kingdom', 'previous_hash': 'ff1af60a5bdbe65fe7e4bd5f3a3ed76667249e833bb06fdde705c2eeff22c155'}, {'index': 7, 'timestamp': '2023-10-01 04:52:09.432494', 'proof': 19865, 'Transaction_No': 581475, 'Date': '12-09-2019', 'Product_No': 21705, 'Product_Name': 'Bag 500g Swirly Marbles', 'Price': 10.65, 'Quantity': 24, 'Customer_No': 13069, 'Country': 'United Kingdom', 'previous_hash': 'c7c83be8674383ade72772de4394355f5534de1ee6a59334127688859d100532'}, {'index': 8, 'timestamp': '2023-10-01 04:52:09.603196', 'proof': 95063, 'Transaction_No': 581475, 'Date': '12-09-2019', 'Product_No': 22118, 'Product_Name': 'Joy Wooden Block Letters', 'Price': 11.53, 'Quantity': 18, 'Customer_No': 13069, 'Country': 'United Kingdom', 'previous_hash': '2828ba5bb0eb706ae97cb13d5b3e89ff7c0c9b1462e9574455bda78a8bc6bcb2'}, {'index': 9, 'timestamp': '2023-10-01 04:52:09.635749', 'proof': 15457, 'Transaction_No': 581475, 'Date': '12-09-2019', 'Product_No': 22119, 'Product_Name': 'Peace Wooden Block Letters', 'Price': 12.25, 'Quantity': 12, 'Customer_No': 13069, 'Country': 'United Kingdom', 'previous_hash': '5557435f76267186fd2a07e1ac7d629e9a5156242d34e8d84ee0b0cdd9fb43b0'}, {'index': 10, 'timestamp': '2023-10-01 04:52:09.665187', 'proof': 15479, 'Transaction_No': 581475, 'Date': '12-09-2019', 'Product_No': 22217, 'Product_Name': 'T-Light Holder Hanging Lace', 'Price': 10.65, 'Quantity': 12, 'Customer_No': 13069, 'Country': 'United Kingdom', 'previous_hash': '94f75bf4bf0720d69c9a47b854a6af7c0ae7663a5937f57e6d2601a22318327b'}, {'index': 11, 'timestamp': '2023-10-01 04:52:09.681996', 'proof': 7889, 'Transaction_No': 581475, 'Date': '12-09-2019', 'Product_No': 22216, 'Product_Name': 'T-Light Holder White Lace', 'Price': 10.55, 'Quantity': 24, 'Customer_No': 13069, 'Country': 'United Kingdom', 'previous_hash': '57c2d4022684d7df3c6110c967ddf63986e0e17aa8074f511e77d861d7543c07'}, {'index': 12, 'timestamp': '2023-10-01 04:52:09.811863', 'proof': 72474, 'Transaction_No': 581475, 'Date': '12-09-2019', 'Product_No': 22380, 'Product_Name': 'Toy Tidy Spaceboy', 'Price': 11.06, 'Quantity': 20, 'Customer_No': 13069, 'Country': 'United Kingdom', 'previous_hash': 'f9b01b8526c5431080fc9a10fd4c6802626841628a66589bae1586831f4ce07c'}, {'index': 13, 'timestamp': '2023-10-01 04:52:10.075702', 'proof': 126616, 'Transaction_No': 581475, 'Date': '12-09-2019', 'Product_No': 22442, 'Product_Name': 'Grow Your Own Flowers Set Of 3', 'Price': 12.25, 'Quantity': 12, 'Customer_No': 13069, 'Country': 'United Kingdom', 'previous_hash': 'b4e08b2f86cefed99ee0657720aea844c62198c0ee289ba23af7358da833dd05'}, {'index': 14, 'timestamp': '2023-10-01 04:52:10.198376', 'proof': 64161, 'Transaction_No': 581475, 'Date': '12-09-2019', 'Product_No': 22664, 'Product_Name': 'Toy Tidy Dolly Girl Design', 'Price': 11.06, 'Quantity': 20, 'Customer_No': 13069, 'Country': 'United Kingdom', 'previous_hash': '6312d47453e15d69f915b3379fbbe43c521b07f46118f8a57cba9493cf1e4507'}, {'index': 15, 'timestamp': '2023-10-01 04:52:10.476971', 'proof': 144125, 'Transaction_No': 581475, 'Date': '12-09-2019', 'Product_No': 22721, 'Product_Name': 'Set Of 3 Cake Tins Sketchbook', 'Price': 12.25, 'Quantity': 12, 'Customer_No': 13069, 'Country': 'United Kingdom', 'previous_hash': '3f2d9900949c28859582330c1abd936a3e5207385d5f00aedd702fb5b47d4ef1'}], 'with nounce=', 144125)\n"
          ]
        }
      ]
    }
  ]
}